{
 "cells": [
  {
   "cell_type": "code",
   "execution_count": 33,
   "metadata": {},
   "outputs": [
    {
     "name": "stdout",
     "output_type": "stream",
     "text": [
      "string\n"
     ]
    }
   ],
   "source": [
    "import requests\n",
    "import json\n",
    "import cv2\n",
    "\n",
    "addr = 'http://localhost/blaiva/api/getFeed.php'\n",
    "# addr = 'https://google.com'\n",
    "\n",
    "# test_url = addr + '/api/test'\n",
    "\n",
    "# prepare headers for http request\n",
    "content_type = 'text/event-stream'\n",
    "headers = {'content-type': content_type, 'Cache-Control': 'no-cache'}\n",
    "\n",
    "img = cv2.imread('images/blaiva.png')\n",
    "\n",
    "# encode image as jpeg\n",
    "_, img_encoded = cv2.imencode('.jpg', img)\n",
    "# send http request with image and receive response\n",
    "# response = requests.get(addr)\n",
    "response = requests.post(addr, data = {'action':'sendFeeds'}, files={'image':img_encoded.tostring()})\n",
    "# decode response\n",
    "# print(json.loads(response.text))\n",
    "print(response.text)\n",
    "\n",
    "# expected output: {u'message': u'image received. size=124x124'}"
   ]
  },
  {
   "cell_type": "code",
   "execution_count": null,
   "metadata": {},
   "outputs": [],
   "source": []
  }
 ],
 "metadata": {
  "kernelspec": {
   "display_name": "Python 3",
   "language": "python",
   "name": "python3"
  },
  "language_info": {
   "codemirror_mode": {
    "name": "ipython",
    "version": 3
   },
   "file_extension": ".py",
   "mimetype": "text/x-python",
   "name": "python",
   "nbconvert_exporter": "python",
   "pygments_lexer": "ipython3",
   "version": "3.6.5"
  }
 },
 "nbformat": 4,
 "nbformat_minor": 2
}
